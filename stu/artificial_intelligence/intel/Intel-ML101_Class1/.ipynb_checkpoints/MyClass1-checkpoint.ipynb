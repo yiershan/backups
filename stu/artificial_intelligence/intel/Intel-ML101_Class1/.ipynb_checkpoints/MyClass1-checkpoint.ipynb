{
 "cells": [
  {
   "cell_type": "markdown",
   "metadata": {},
   "source": [
    "# 机器学习和工具练习介绍"
   ]
  },
  {
   "cell_type": "markdown",
   "metadata": {},
   "source": [
    "## 介绍\n",
    "我们将使用本教程的IRIS数据集。这是一个著名的数据集包含虹膜物种和萼片和花瓣测量。我们将使用的数据是在data目录中找到的名为IrsixDATA.CSV的文件中。"
   ]
  },
  {
   "cell_type": "markdown",
   "metadata": {},
   "source": [
    "## pandas Series\n",
    "### 创建一个集合"
   ]
  },
  {
   "cell_type": "code",
   "execution_count": 23,
   "metadata": {},
   "outputs": [
    {
     "name": "stdout",
     "output_type": "stream",
     "text": [
      "0     121\n",
      "1    7891\n",
      "2    9761\n",
      "3    3907\n",
      "4    4338\n",
      "5    5373\n",
      "Name: test, dtype: int64\n"
     ]
    }
   ],
   "source": [
    "import pandas as pd\n",
    "import numpy as np\n",
    "import matplotlib.pyplot as plt\n",
    "step_data = [121, 7891, 9761, 3907, 4338, 5373]\n",
    "step_counts = pd.Series(step_data,name = 'test')\n",
    "print(step_counts)"
   ]
  },
  {
   "cell_type": "markdown",
   "metadata": {},
   "source": [
    " ### 修改集合下标\n",
    " 修改集合下标为时间，可见index 0- 5 变成了时间.\n",
    "应该属于键值对类型的集合。等同于修改了集合的建值"
   ]
  },
  {
   "cell_type": "code",
   "execution_count": 24,
   "metadata": {},
   "outputs": [
    {
     "name": "stdout",
     "output_type": "stream",
     "text": [
      "2018-06-28     121\n",
      "2018-06-29    7891\n",
      "2018-06-30    9761\n",
      "2018-07-01    3907\n",
      "2018-07-02    4338\n",
      "2018-07-03    5373\n",
      "Freq: D, Name: test, dtype: int64\n"
     ]
    }
   ],
   "source": [
    "step_counts.index = pd.date_range('20180628', periods = 6)\n",
    "print(step_counts)"
   ]
  },
  {
   "cell_type": "markdown",
   "metadata": {},
   "source": [
    "### 取值"
   ]
  },
  {
   "cell_type": "code",
   "execution_count": 25,
   "metadata": {
    "scrolled": true
   },
   "outputs": [
    {
     "name": "stdout",
     "output_type": "stream",
     "text": [
      "121\n",
      "121\n"
     ]
    }
   ],
   "source": [
    "print(step_counts['2018-06-28'])\n",
    "print(step_counts[0])"
   ]
  },
  {
   "cell_type": "markdown",
   "metadata": {},
   "source": [
    "似乎比我了解的键值对更加强大，还可以这样用。"
   ]
  },
  {
   "cell_type": "code",
   "execution_count": 26,
   "metadata": {
    "scrolled": true
   },
   "outputs": [
    {
     "name": "stdout",
     "output_type": "stream",
     "text": [
      "2018-06-28     121\n",
      "2018-06-29    7891\n",
      "2018-06-30    9761\n",
      "Freq: D, Name: test, dtype: int64\n"
     ]
    }
   ],
   "source": [
    "print(step_counts['2018-06'])"
   ]
  },
  {
   "cell_type": "markdown",
   "metadata": {},
   "source": [
    "### 修改数据类型 astype"
   ]
  },
  {
   "cell_type": "code",
   "execution_count": 27,
   "metadata": {},
   "outputs": [
    {
     "name": "stdout",
     "output_type": "stream",
     "text": [
      "int64\n",
      "float64\n"
     ]
    }
   ],
   "source": [
    "print(step_counts.dtypes)\n",
    "step_counts = step_counts.astype(np.float)\n",
    "print(step_counts.dtypes)\n",
    "                                 "
   ]
  },
  {
   "cell_type": "markdown",
   "metadata": {},
   "source": [
    "### 统一赋值为NaN"
   ]
  },
  {
   "cell_type": "code",
   "execution_count": 28,
   "metadata": {
    "scrolled": true
   },
   "outputs": [
    {
     "name": "stdout",
     "output_type": "stream",
     "text": [
      "2018-06-28     121.0\n",
      "2018-06-29       NaN\n",
      "2018-06-30       NaN\n",
      "2018-07-01    3907.0\n",
      "2018-07-02    4338.0\n",
      "2018-07-03    5373.0\n",
      "Freq: D, Name: test, dtype: float64\n"
     ]
    }
   ],
   "source": [
    "step_counts[1:3] = np.NaN\n",
    "print(step_counts)\n"
   ]
  },
  {
   "cell_type": "markdown",
   "metadata": {},
   "source": [
    "### 把NaN值修改为0  fillna"
   ]
  },
  {
   "cell_type": "code",
   "execution_count": 29,
   "metadata": {
    "scrolled": true
   },
   "outputs": [
    {
     "name": "stdout",
     "output_type": "stream",
     "text": [
      "2018-06-28     121.0\n",
      "2018-06-29       0.0\n",
      "2018-06-30       0.0\n",
      "2018-07-01    3907.0\n",
      "2018-07-02    4338.0\n",
      "2018-07-03    5373.0\n",
      "Freq: D, Name: test, dtype: float64\n"
     ]
    }
   ],
   "source": [
    "step_counts = step_counts.fillna(0.) \n",
    "print(step_counts)"
   ]
  },
  {
   "cell_type": "markdown",
   "metadata": {},
   "source": [
    "### 创建 DataFrame\n",
    "二维的数组，也可以理解为表格"
   ]
  },
  {
   "cell_type": "code",
   "execution_count": 30,
   "metadata": {
    "scrolled": true
   },
   "outputs": [
    {
     "name": "stdout",
     "output_type": "stream",
     "text": [
      "      0     1\n",
      "0   121  10.7\n",
      "1  7891   0.0\n",
      "2  9761   NaN\n",
      "3  3907   2.4\n",
      "4  4338  15.3\n",
      "5  5373  10.9\n"
     ]
    }
   ],
   "source": [
    "cycling_data = [10.7, 0, None, 2.4, 15.3, 10.9, 0, None]\n",
    "joined_data = list(zip(step_data, cycling_data))\n",
    "activity_df = pd.DataFrame(joined_data)\n",
    "print(activity_df)\n"
   ]
  },
  {
   "cell_type": "markdown",
   "metadata": {},
   "source": [
    "### 修改DataFrame 的行列值\n",
    "可以理解为修改二维数组的横坐标与纵坐标。"
   ]
  },
  {
   "cell_type": "code",
   "execution_count": 31,
   "metadata": {
    "scrolled": true
   },
   "outputs": [
    {
     "name": "stdout",
     "output_type": "stream",
     "text": [
      "            Walking  Cycling\n",
      "2018-06-28      121     10.7\n",
      "2018-06-29     7891      0.0\n",
      "2018-06-30     9761      NaN\n",
      "2018-07-01     3907      2.4\n",
      "2018-07-02     4338     15.3\n",
      "2018-07-03     5373     10.9\n"
     ]
    }
   ],
   "source": [
    "activity_df = pd.DataFrame(joined_data, index=pd.date_range('20180628', periods=6), columns=['Walking','Cycling'])\n",
    "print(activity_df)\n"
   ]
  },
  {
   "cell_type": "markdown",
   "metadata": {},
   "source": [
    "取值有所变化"
   ]
  },
  {
   "cell_type": "code",
   "execution_count": 32,
   "metadata": {},
   "outputs": [
    {
     "name": "stdout",
     "output_type": "stream",
     "text": [
      "Walking    121.0\n",
      "Cycling     10.7\n",
      "Name: 2018-06-28 00:00:00, dtype: float64\n",
      "Walking    121.0\n",
      "Cycling     10.7\n",
      "Name: 2018-06-28 00:00:00, dtype: float64\n"
     ]
    }
   ],
   "source": [
    "print(activity_df.loc['2018-06-28'])\n",
    "print(activity_df.iloc[0])\n"
   ]
  },
  {
   "cell_type": "code",
   "execution_count": 33,
   "metadata": {},
   "outputs": [
    {
     "name": "stdout",
     "output_type": "stream",
     "text": [
      "2018-06-28     121\n",
      "2018-06-29    7891\n",
      "2018-06-30    9761\n",
      "2018-07-01    3907\n",
      "2018-07-02    4338\n",
      "2018-07-03    5373\n",
      "Freq: D, Name: Walking, dtype: int64\n",
      "2018-06-28     121\n",
      "2018-06-29    7891\n",
      "2018-06-30    9761\n",
      "2018-07-01    3907\n",
      "2018-07-02    4338\n",
      "2018-07-03    5373\n",
      "Freq: D, Name: Walking, dtype: int64\n",
      "2018-06-28     121\n",
      "2018-06-29    7891\n",
      "2018-06-30    9761\n",
      "2018-07-01    3907\n",
      "2018-07-02    4338\n",
      "2018-07-03    5373\n",
      "Freq: D, Name: Walking, dtype: int64\n",
      "7891\n"
     ]
    }
   ],
   "source": [
    "print(activity_df['Walking'])\n",
    "print(activity_df.Walking)\n",
    "print(activity_df.iloc[:,0])\n",
    "print(activity_df.iloc[1,0])\n"
   ]
  },
  {
   "cell_type": "markdown",
   "metadata": {},
   "source": [
    "### 读取csv文件"
   ]
  },
  {
   "cell_type": "code",
   "execution_count": 34,
   "metadata": {},
   "outputs": [
    {
     "name": "stdout",
     "output_type": "stream",
     "text": [
      "   sepal_length  sepal_width  petal_length  petal_width      species\n",
      "0           5.1          3.5           1.4          0.2  Iris-setosa\n",
      "1           4.9          3.0           1.4          0.2  Iris-setosa\n",
      "2           4.7          3.2           1.3          0.2  Iris-setosa\n",
      "3           4.6          3.1           1.5          0.2  Iris-setosa\n",
      "4           5.0          3.6           1.4          0.2  Iris-setosa\n"
     ]
    }
   ],
   "source": [
    "filepath = 'data/Iris_Data.csv'\n",
    "data = pd.read_csv(filepath)\n",
    "print(data.iloc[:5])\n"
   ]
  },
  {
   "cell_type": "code",
   "execution_count": 35,
   "metadata": {},
   "outputs": [
    {
     "name": "stdout",
     "output_type": "stream",
     "text": [
      "   petal_length  petal_width      species  sepal_area\n",
      "0           1.4          0.2  Iris-setosa       17.85\n",
      "1           1.4          0.2  Iris-setosa       14.70\n",
      "2           1.3          0.2  Iris-setosa       15.04\n",
      "3           1.5          0.2  Iris-setosa       14.26\n",
      "4           1.4          0.2  Iris-setosa       18.00\n"
     ]
    }
   ],
   "source": [
    "data['sepal_area'] = data.sepal_length *data.sepal_width\n",
    "print(data.iloc[:5, -4:])\n"
   ]
  },
  {
   "cell_type": "markdown",
   "metadata": {},
   "source": [
    "### lambda表达式\n",
    "还可以这样操作，使用lambda表达式"
   ]
  },
  {
   "cell_type": "code",
   "execution_count": 36,
   "metadata": {
    "scrolled": true
   },
   "outputs": [
    {
     "name": "stdout",
     "output_type": "stream",
     "text": [
      "       species  sepal_area  abbrev\n",
      "0  Iris-setosa       17.85  setosa\n",
      "1  Iris-setosa       14.70  setosa\n",
      "2  Iris-setosa       15.04  setosa\n",
      "3  Iris-setosa       14.26  setosa\n",
      "4  Iris-setosa       18.00  setosa\n"
     ]
    }
   ],
   "source": [
    "data['abbrev'] = data .species .apply(lambda x:x.replace('Iris-',''))\n",
    "print(data.iloc[:5, -3:])\n"
   ]
  },
  {
   "cell_type": "markdown",
   "metadata": {},
   "source": [
    "### concat 合并表，矩阵合并"
   ]
  },
  {
   "cell_type": "code",
   "execution_count": 54,
   "metadata": {
    "scrolled": true
   },
   "outputs": [
    {
     "name": "stdout",
     "output_type": "stream",
     "text": [
      "     sepal_length  sepal_width  petal_length  petal_width\n",
      "0             5.1          3.5           1.4          0.2\n",
      "1             4.9          3.0           1.4          0.2\n",
      "148           6.2          3.4           5.4          2.3\n",
      "149           5.9          3.0           5.1          1.8\n"
     ]
    }
   ],
   "source": [
    "# print(data.iloc[:2])\n",
    "# print(data.iloc[-2:])\n",
    "small_data = pd.concat([data.iloc[:2], data.iloc[-2:]])\n",
    "print(small_data.iloc[:,:4])"
   ]
  },
  {
   "cell_type": "markdown",
   "metadata": {},
   "source": [
    "### groupby 分组"
   ]
  },
  {
   "cell_type": "code",
   "execution_count": 38,
   "metadata": {
    "scrolled": true
   },
   "outputs": [
    {
     "name": "stdout",
     "output_type": "stream",
     "text": [
      "species\n",
      "Iris-setosa        50\n",
      "Iris-versicolor    50\n",
      "Iris-virginica     50\n",
      "dtype: int64\n"
     ]
    }
   ],
   "source": [
    "group_sizes = (data .groupby('species') .size())\n",
    "print(group_sizes)\n"
   ]
  },
  {
   "cell_type": "markdown",
   "metadata": {},
   "source": [
    "### 平均数 mean"
   ]
  },
  {
   "cell_type": "code",
   "execution_count": 39,
   "metadata": {
    "scrolled": true
   },
   "outputs": [
    {
     "name": "stdout",
     "output_type": "stream",
     "text": [
      "sepal_length     5.843333\n",
      "sepal_width      3.054000\n",
      "petal_length     3.758667\n",
      "petal_width      1.198667\n",
      "sepal_area      17.806533\n",
      "dtype: float64\n",
      "5.843333333333334\n"
     ]
    }
   ],
   "source": [
    "print(data.mean())\n",
    "print(data.sepal_length.mean())"
   ]
  },
  {
   "cell_type": "markdown",
   "metadata": {},
   "source": [
    "### 中间值 median"
   ]
  },
  {
   "cell_type": "code",
   "execution_count": 43,
   "metadata": {},
   "outputs": [
    {
     "name": "stdout",
     "output_type": "stream",
     "text": [
      "4.35\n"
     ]
    }
   ],
   "source": [
    "print(data.petal_length.median())\n"
   ]
  },
  {
   "cell_type": "markdown",
   "metadata": {},
   "source": [
    "### 众数\n",
    "出现频率最多的数值"
   ]
  },
  {
   "cell_type": "code",
   "execution_count": 42,
   "metadata": {
    "scrolled": true
   },
   "outputs": [
    {
     "name": "stdout",
     "output_type": "stream",
     "text": [
      "0    1.4\n",
      "dtype: float64\n"
     ]
    }
   ],
   "source": [
    "print(small_data.petal_length.mode())"
   ]
  },
  {
   "cell_type": "markdown",
   "metadata": {},
   "source": [
    "### 标准差、方差、SEM、分位数\n",
    "标准差 std\n",
    "方差 var\n",
    "SEM \n",
    "分位数 quantile"
   ]
  },
  {
   "cell_type": "code",
   "execution_count": 45,
   "metadata": {},
   "outputs": [
    {
     "name": "stdout",
     "output_type": "stream",
     "text": [
      "1.7644204199522626 3.113179418344519 0.1440643240210085\n",
      "sepal_length     4.3\n",
      "sepal_width      2.0\n",
      "petal_length     1.0\n",
      "petal_width      0.1\n",
      "sepal_area      10.0\n",
      "Name: 0, dtype: float64\n"
     ]
    }
   ],
   "source": [
    "print(data.petal_length.std(),       data.petal_length.var(),     data.petal_length.sem())\n",
    "\n",
    "print(data.quantile(0))\n",
    "\n"
   ]
  },
  {
   "cell_type": "code",
   "execution_count": 46,
   "metadata": {},
   "outputs": [
    {
     "name": "stdout",
     "output_type": "stream",
     "text": [
      "       sepal_length  sepal_width  petal_length  petal_width  sepal_area\n",
      "count    150.000000   150.000000    150.000000   150.000000  150.000000\n",
      "mean       5.843333     3.054000      3.758667     1.198667   17.806533\n",
      "std        0.828066     0.433594      1.764420     0.763161    3.368693\n",
      "min        4.300000     2.000000      1.000000     0.100000   10.000000\n",
      "25%        5.100000     2.800000      1.600000     0.300000   15.645000\n",
      "50%        5.800000     3.000000      4.350000     1.300000   17.660000\n",
      "75%        6.400000     3.300000      5.100000     1.800000   20.325000\n",
      "max        7.900000     4.400000      6.900000     2.500000   30.020000\n"
     ]
    }
   ],
   "source": [
    "print(data.describe())\n"
   ]
  },
  {
   "cell_type": "markdown",
   "metadata": {},
   "source": [
    "### 样本sample"
   ]
  },
  {
   "cell_type": "code",
   "execution_count": 52,
   "metadata": {},
   "outputs": [
    {
     "name": "stdout",
     "output_type": "stream",
     "text": [
      "     sepal_length  sepal_width  petal_length  petal_width\n",
      "40            5.0          3.5           1.3          0.3\n",
      "146           6.3          2.5           5.0          1.9\n",
      "38            4.4          3.0           1.3          0.2\n",
      "99            5.7          2.8           4.1          1.3\n",
      "143           6.8          3.2           5.9          2.3\n",
      "116           6.5          3.0           5.5          1.8\n",
      "148           6.2          3.4           5.4          2.3\n",
      "39            5.1          3.4           1.5          0.2\n"
     ]
    }
   ],
   "source": [
    "sample = (data .sample(n=8, replace=False, random_state=12))\n",
    "print(sample.iloc[:,:4])\n"
   ]
  },
  {
   "cell_type": "markdown",
   "metadata": {},
   "source": [
    "## Matplotlib "
   ]
  },
  {
   "cell_type": "code",
   "execution_count": 55,
   "metadata": {},
   "outputs": [
    {
     "ename": "SyntaxError",
     "evalue": "invalid syntax (<ipython-input-55-ae5be980301b>, line 1)",
     "output_type": "error",
     "traceback": [
      "\u001b[1;36m  File \u001b[1;32m\"<ipython-input-55-ae5be980301b>\"\u001b[1;36m, line \u001b[1;32m1\u001b[0m\n\u001b[1;33m    Import matplotlib.pyplot as plt\u001b[0m\n\u001b[1;37m                    ^\u001b[0m\n\u001b[1;31mSyntaxError\u001b[0m\u001b[1;31m:\u001b[0m invalid syntax\n"
     ]
    }
   ],
   "source": [
    "\n",
    "plt.plot(data.sepal_length, data.sepal_width, ls ='', marker='o')\n"
   ]
  },
  {
   "cell_type": "code",
   "execution_count": null,
   "metadata": {},
   "outputs": [],
   "source": []
  }
 ],
 "metadata": {
  "kernelspec": {
   "display_name": "Python 3",
   "language": "python",
   "name": "python3"
  },
  "language_info": {
   "codemirror_mode": {
    "name": "ipython",
    "version": 3
   },
   "file_extension": ".py",
   "mimetype": "text/x-python",
   "name": "python",
   "nbconvert_exporter": "python",
   "pygments_lexer": "ipython3",
   "version": "3.6.1"
  }
 },
 "nbformat": 4,
 "nbformat_minor": 2
}
